{
 "cells": [
  {
   "cell_type": "markdown",
   "metadata": {},
   "source": [
    "# Capstone Project:\n",
    "# National Cuisine in Capitals of UE Countries - Comparisson"
   ]
  },
  {
   "cell_type": "markdown",
   "metadata": {},
   "source": [
    "## Introduction\n",
    "The goal of my Project is to make a analysis about existance of foreign national cuisine in the Capitals of EU Countries. I will try to show  which national cuisine is the most popular in EU. The results can be used as an advice for Stakholders that would like to open a new restaurant in one of the capitals.\n",
    "\n",
    "The first part will show how popular are cuisins of other countries in restaurants located in all 28 capitals. The basisi for the analysis will be the quantity and score of foreign restaurants in city centers. Final result will be shown as a heat map for quantity, avarage scores and their multiplication as factor. \n",
    "\n",
    "Second part will be a detailed analysis for one nationality. In this part there will be shown how popular are restaurants of one chosen nationality in other countires. There will be also ashown if there is a corelation to number of emigrants of the nationality. It can be an indicator that could be used to predict the popularity for new restaurants."
   ]
  },
  {
   "cell_type": "markdown",
   "metadata": {},
   "source": [
    "## Datasets\n",
    "\n",
    "To start the analysis ther will be  needed to prepare a dataset of countries in EU with basic information about capitals. Capitals of all countries will be taken from [Population Growth Rates in Urban areas and Capital cities table](https://data.un.org/_Docs/SYB/CSV/SYB61_253_Population%20Growth%20Rates%20in%20Urban%20areas%20and%20Capital%20cities.csv) taken from [Undata](https://data.un.org/) Unated Nations Statistic Division. The result will be reduced to countries that are members of EU.  \n",
    "Sample with Capitals of the countries before reduction to EU members: \n",
    "![undata.png](undata.png)\n",
    "\n",
    "The main source of information about restaurants and their popularity will be [Forsquare api](https://developer.foursquare.com/docs/api). In the first aproach there will be prepared an iterration trough all capitals too recive the quantity  and score of restaurants with foreign cuisine for each capital (28x27=756 Requests).The results will be stored in two  data frames, one with quantities and one with average score per city.\n",
    "\n",
    "For the second Part will require more generall informations about the nationalities . This will be taken form [Eurostat](https://ec.europa.eu/eurostat) - European Comission Statistic Office and when needed form national statistic surveys like f.e.[GUS](https://api.stat.gov.pl/) which provides an api to data collected in Generall Statistic Office in Poland. \n",
    "\n",
    "Example of immigration data from [Eurosat](https://ec.europa.eu/eurostat/databrowser/view/tps00176/default/table?lang=en)\n",
    "![EUim.png](EUim.png)\n",
    "\n",
    "Imigration in EU countries with citzenship [Eurosat](https://ec.europa.eu/eurostat/estat-navtree-portlet-prod/BulkDownloadListing?file=data/migr_imm2ctz.tsv.gz)\n",
    "![EUem.png](EUem.png)\n",
    "\n",
    "Example of immigration from [GUS](https://stat.gov.pl/download/gfx/portalinformacyjny/pl/defaultaktualnosci/5471/4/2/1/glowne_kierunki_emigracji_i_imigracji_w_latach_1966-2018_migracje_na_pobyt_staly.xlsx). Emigration from Poland to France \n",
    "![GUSem.png](GUSem.png)\n",
    "\n",
    "\n",
    "Support table for country names translation [GUS](https://stat.gov.pl/download/gfx/portalinformacyjny/pl/defaultaktualnosci/5471/9/1/1/wykaz_krajow_obywatelstwa.xlsx)\n",
    "![GUSiso.png](GUSiso.png)\n",
    "\n",
    "Additionaly for choropleth maps geoJSON data will be needed. This will be also taken form [Eurostat](https://ec.europa.eu/eurostat/web/gisco/geodata/reference-data/administrative-units-statistical-units/countries) which provides data in several format an scales.\n",
    "\n",
    "\n"
   ]
  },
  {
   "cell_type": "code",
   "execution_count": null,
   "metadata": {},
   "outputs": [],
   "source": []
  },
  {
   "cell_type": "code",
   "execution_count": null,
   "metadata": {},
   "outputs": [],
   "source": []
  }
 ],
 "metadata": {
  "kernelspec": {
   "display_name": "Python 3",
   "language": "python",
   "name": "python3"
  },
  "language_info": {
   "codemirror_mode": {
    "name": "ipython",
    "version": 3
   },
   "file_extension": ".py",
   "mimetype": "text/x-python",
   "name": "python",
   "nbconvert_exporter": "python",
   "pygments_lexer": "ipython3",
   "version": "3.7.4"
  }
 },
 "nbformat": 4,
 "nbformat_minor": 2
}
